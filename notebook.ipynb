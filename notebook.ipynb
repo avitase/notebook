{
 "cells": [
  {
   "cell_type": "code",
   "execution_count": 1,
   "metadata": {},
   "outputs": [],
   "source": [
    "import matplotlib.pyplot as plt\n",
    "\n",
    "import numpy as np"
   ]
  },
  {
   "cell_type": "code",
   "execution_count": 2,
   "metadata": {},
   "outputs": [],
   "source": [
    "import figtools as ftl"
   ]
  },
  {
   "cell_type": "code",
   "execution_count": 3,
   "metadata": {
    "pycharm": {
     "name": "#%%\n"
    }
   },
   "outputs": [
    {
     "data": {
      "text/plain": "Output(outputs=({'output_type': 'display_data', 'data': {'text/plain': '<IPython.core.display.HTML object>', '…",
      "application/vnd.jupyter.widget-view+json": {
       "version_major": 2,
       "version_minor": 0,
       "model_id": "4ab833697aa4443cab6618928720a8f9"
      }
     },
     "metadata": {},
     "output_type": "display_data"
    }
   ],
   "source": [
    "x = np.linspace(0., 2., 100)\n",
    "\n",
    "fig, ax = plt.subplots()\n",
    "ax.plot(x, x, label=r'$x$')\n",
    "ax.plot(x, x**2, label=r'$x^2$')\n",
    "ax.plot(x, x**3, label=r'$x^3$')\n",
    "ax.set_xlabel(r'$x$-axis')\n",
    "ax.set_ylabel(r'$y$-axis')\n",
    "ax.set_title('Example 101')\n",
    "ax.legend()\n",
    "ax.grid()\n",
    "ftl.save_fig(fig, 'test', resize=ftl.fig_size.SMALL)"
   ]
  }
 ],
 "metadata": {
  "kernelspec": {
   "display_name": "Python 3",
   "language": "python",
   "name": "python3"
  },
  "language_info": {
   "codemirror_mode": {
    "name": "ipython",
    "version": 3
   },
   "file_extension": ".py",
   "mimetype": "text/x-python",
   "name": "python",
   "nbconvert_exporter": "python",
   "pygments_lexer": "ipython3",
   "version": "3.8.3"
  }
 },
 "nbformat": 4,
 "nbformat_minor": 4
}